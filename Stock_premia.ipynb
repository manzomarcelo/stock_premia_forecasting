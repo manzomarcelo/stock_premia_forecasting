{
 "cells": [
  {
   "cell_type": "code",
   "execution_count": 1,
   "metadata": {},
   "outputs": [],
   "source": [
    "import seaborn as sns\n",
    "from sklearn.preprocessing import StandardScaler\n",
    "from sklearn.preprocessing import MinMaxScaler\n",
    "import numpy as np\n",
    "import pandas as pd\n",
    "from sklearn.ensemble import RandomForestRegressor\n",
    "from sklearn.linear_model import HuberRegressor\n",
    "from sklearn.ensemble import GradientBoostingRegressor\n",
    "from sklearn.preprocessing import MaxAbsScaler\n",
    "from sklearn.ensemble import AdaBoostRegressor\n",
    "from sklearn.linear_model import LinearRegression\n",
    "import matplotlib.pyplot as plt\n",
    "import warnings\n",
    "from pprint import pprint\n",
    "from sklearn.model_selection import ParameterGrid\n",
    "import statsmodels.api as sm\n",
    "from sklearn.metrics import r2_score\n",
    "from sklearn.linear_model import ElasticNet\n",
    "from sklearn.linear_model import Ridge\n",
    "from sklearn.cross_decomposition import PLSRegression, PLSSVD\n",
    "from sklearn.linear_model import Lasso\n",
    "from sklearn.decomposition import PCA\n",
    "#from mlxtend.evaluate import feature_importance_permutation\n",
    "from tqdm import tqdm\n",
    "warnings.filterwarnings('ignore')"
   ]
  },
  {
   "cell_type": "code",
   "execution_count": 2,
   "metadata": {},
   "outputs": [],
   "source": [
    "df=pd.read_csv(\"final_dataset2.csv\",index_col=0)"
   ]
  },
  {
   "cell_type": "code",
   "execution_count": 3,
   "metadata": {},
   "outputs": [],
   "source": [
    "df=df['1963-07':'2016-12']"
   ]
  },
  {
   "cell_type": "code",
   "execution_count": 4,
   "metadata": {},
   "outputs": [],
   "source": [
    "df.drop(['PRC','VOL','SMB','HML','UMD'],axis=1,inplace=True)"
   ]
  },
  {
   "cell_type": "code",
   "execution_count": null,
   "metadata": {},
   "outputs": [],
   "source": [
    "# total_rows=0\n",
    "# for permn in df['Permno'].loc[df['ret']>=5].values:\n",
    "#     subset=df[df['Permno']==permn]\n",
    "#     total_rows=total_rows+len(subset)\n",
    "\n",
    "# print(total_rows)"
   ]
  },
  {
   "cell_type": "code",
   "execution_count": null,
   "metadata": {},
   "outputs": [],
   "source": [
    "# df=df[(~df['Permno'].isin(df['Permno'].loc[df['ret']>=5].values))]"
   ]
  },
  {
   "cell_type": "markdown",
   "metadata": {},
   "source": [
    "# Analysis"
   ]
  },
  {
   "cell_type": "code",
   "execution_count": 5,
   "metadata": {},
   "outputs": [],
   "source": [
    "df.reset_index(inplace=True)"
   ]
  },
  {
   "cell_type": "code",
   "execution_count": 6,
   "metadata": {},
   "outputs": [],
   "source": [
    "df['Date'] = df['Date'].astype(str)"
   ]
  },
  {
   "cell_type": "code",
   "execution_count": 7,
   "metadata": {},
   "outputs": [],
   "source": [
    "df['Date']=pd.to_datetime(df['Date']).dt.to_period('M')"
   ]
  },
  {
   "cell_type": "code",
   "execution_count": 8,
   "metadata": {},
   "outputs": [],
   "source": [
    "x,y = df.drop(['ret'], axis = 1), df[['Permno','ret']]"
   ]
  },
  {
   "cell_type": "code",
   "execution_count": 9,
   "metadata": {},
   "outputs": [],
   "source": [
    "y.index=x['Date']"
   ]
  },
  {
   "cell_type": "code",
   "execution_count": 10,
   "metadata": {},
   "outputs": [],
   "source": [
    "y.index = y.index.shift(-1)"
   ]
  },
  {
   "cell_type": "code",
   "execution_count": 11,
   "metadata": {},
   "outputs": [
    {
     "data": {
      "text/html": [
       "<div>\n",
       "<style scoped>\n",
       "    .dataframe tbody tr th:only-of-type {\n",
       "        vertical-align: middle;\n",
       "    }\n",
       "\n",
       "    .dataframe tbody tr th {\n",
       "        vertical-align: top;\n",
       "    }\n",
       "\n",
       "    .dataframe thead th {\n",
       "        text-align: right;\n",
       "    }\n",
       "</style>\n",
       "<table border=\"1\" class=\"dataframe\">\n",
       "  <thead>\n",
       "    <tr style=\"text-align: right;\">\n",
       "      <th></th>\n",
       "      <th>Date</th>\n",
       "      <th>ret</th>\n",
       "      <th>A2ME</th>\n",
       "      <th>AC</th>\n",
       "      <th>AT</th>\n",
       "      <th>ATO</th>\n",
       "      <th>BEME</th>\n",
       "      <th>Beta</th>\n",
       "      <th>C</th>\n",
       "      <th>CF</th>\n",
       "      <th>...</th>\n",
       "      <th>Resid_Var</th>\n",
       "      <th>RNA</th>\n",
       "      <th>ROA</th>\n",
       "      <th>ROE</th>\n",
       "      <th>S2P</th>\n",
       "      <th>SGA2S</th>\n",
       "      <th>Spread</th>\n",
       "      <th>ST_REV</th>\n",
       "      <th>SUV</th>\n",
       "      <th>Variance</th>\n",
       "    </tr>\n",
       "  </thead>\n",
       "  <tbody>\n",
       "    <tr>\n",
       "      <th>0</th>\n",
       "      <td>1963-07</td>\n",
       "      <td>0.118581</td>\n",
       "      <td>2.279083</td>\n",
       "      <td>0.088069</td>\n",
       "      <td>255.4</td>\n",
       "      <td>5.589242</td>\n",
       "      <td>1.269299</td>\n",
       "      <td>0.832348</td>\n",
       "      <td>0.117854</td>\n",
       "      <td>-0.043307</td>\n",
       "      <td>...</td>\n",
       "      <td>0.000077</td>\n",
       "      <td>0.462347</td>\n",
       "      <td>0.031250</td>\n",
       "      <td>0.058388</td>\n",
       "      <td>2.039931</td>\n",
       "      <td>0.079090</td>\n",
       "      <td>0.013126</td>\n",
       "      <td>-0.001289</td>\n",
       "      <td>-0.127039</td>\n",
       "      <td>0.000116</td>\n",
       "    </tr>\n",
       "    <tr>\n",
       "      <th>1</th>\n",
       "      <td>1963-07</td>\n",
       "      <td>0.075514</td>\n",
       "      <td>1.163059</td>\n",
       "      <td>0.170219</td>\n",
       "      <td>316.3</td>\n",
       "      <td>4.892748</td>\n",
       "      <td>0.736371</td>\n",
       "      <td>1.044962</td>\n",
       "      <td>0.035409</td>\n",
       "      <td>-0.012833</td>\n",
       "      <td>...</td>\n",
       "      <td>0.000099</td>\n",
       "      <td>0.607491</td>\n",
       "      <td>0.059047</td>\n",
       "      <td>0.094291</td>\n",
       "      <td>1.056792</td>\n",
       "      <td>0.137738</td>\n",
       "      <td>0.018966</td>\n",
       "      <td>-0.038031</td>\n",
       "      <td>0.345807</td>\n",
       "      <td>0.000117</td>\n",
       "    </tr>\n",
       "    <tr>\n",
       "      <th>2</th>\n",
       "      <td>1963-07</td>\n",
       "      <td>0.056759</td>\n",
       "      <td>3.855506</td>\n",
       "      <td>-0.058373</td>\n",
       "      <td>505.0</td>\n",
       "      <td>7.831563</td>\n",
       "      <td>2.314999</td>\n",
       "      <td>1.312464</td>\n",
       "      <td>0.038614</td>\n",
       "      <td>0.024174</td>\n",
       "      <td>...</td>\n",
       "      <td>0.000168</td>\n",
       "      <td>0.142185</td>\n",
       "      <td>0.013400</td>\n",
       "      <td>0.019842</td>\n",
       "      <td>3.940251</td>\n",
       "      <td>0.130866</td>\n",
       "      <td>0.020311</td>\n",
       "      <td>-0.075472</td>\n",
       "      <td>-0.413066</td>\n",
       "      <td>0.000233</td>\n",
       "    </tr>\n",
       "    <tr>\n",
       "      <th>3</th>\n",
       "      <td>1963-07</td>\n",
       "      <td>0.052171</td>\n",
       "      <td>0.785296</td>\n",
       "      <td>0.009557</td>\n",
       "      <td>348.0</td>\n",
       "      <td>-6.640124</td>\n",
       "      <td>0.519480</td>\n",
       "      <td>1.251163</td>\n",
       "      <td>0.218391</td>\n",
       "      <td>0.096349</td>\n",
       "      <td>...</td>\n",
       "      <td>0.000158</td>\n",
       "      <td>-0.336505</td>\n",
       "      <td>0.091442</td>\n",
       "      <td>0.116149</td>\n",
       "      <td>1.448961</td>\n",
       "      <td>0.039573</td>\n",
       "      <td>0.015030</td>\n",
       "      <td>0.049342</td>\n",
       "      <td>0.815088</td>\n",
       "      <td>0.000183</td>\n",
       "    </tr>\n",
       "    <tr>\n",
       "      <th>4</th>\n",
       "      <td>1963-07</td>\n",
       "      <td>0.154022</td>\n",
       "      <td>1.394023</td>\n",
       "      <td>-0.053441</td>\n",
       "      <td>211.2</td>\n",
       "      <td>63.686745</td>\n",
       "      <td>0.716357</td>\n",
       "      <td>1.564608</td>\n",
       "      <td>0.244318</td>\n",
       "      <td>0.042218</td>\n",
       "      <td>...</td>\n",
       "      <td>0.000201</td>\n",
       "      <td>4.193624</td>\n",
       "      <td>0.053908</td>\n",
       "      <td>0.105422</td>\n",
       "      <td>2.505366</td>\n",
       "      <td>0.000000</td>\n",
       "      <td>0.017883</td>\n",
       "      <td>-0.032520</td>\n",
       "      <td>0.016746</td>\n",
       "      <td>0.000232</td>\n",
       "    </tr>\n",
       "  </tbody>\n",
       "</table>\n",
       "<p>5 rows × 48 columns</p>\n",
       "</div>"
      ],
      "text/plain": [
       "      Date       ret      A2ME        AC     AT        ATO      BEME  \\\n",
       "0  1963-07  0.118581  2.279083  0.088069  255.4   5.589242  1.269299   \n",
       "1  1963-07  0.075514  1.163059  0.170219  316.3   4.892748  0.736371   \n",
       "2  1963-07  0.056759  3.855506 -0.058373  505.0   7.831563  2.314999   \n",
       "3  1963-07  0.052171  0.785296  0.009557  348.0  -6.640124  0.519480   \n",
       "4  1963-07  0.154022  1.394023 -0.053441  211.2  63.686745  0.716357   \n",
       "\n",
       "       Beta         C        CF  ...  Resid_Var       RNA       ROA       ROE  \\\n",
       "0  0.832348  0.117854 -0.043307  ...   0.000077  0.462347  0.031250  0.058388   \n",
       "1  1.044962  0.035409 -0.012833  ...   0.000099  0.607491  0.059047  0.094291   \n",
       "2  1.312464  0.038614  0.024174  ...   0.000168  0.142185  0.013400  0.019842   \n",
       "3  1.251163  0.218391  0.096349  ...   0.000158 -0.336505  0.091442  0.116149   \n",
       "4  1.564608  0.244318  0.042218  ...   0.000201  4.193624  0.053908  0.105422   \n",
       "\n",
       "        S2P     SGA2S    Spread    ST_REV       SUV  Variance  \n",
       "0  2.039931  0.079090  0.013126 -0.001289 -0.127039  0.000116  \n",
       "1  1.056792  0.137738  0.018966 -0.038031  0.345807  0.000117  \n",
       "2  3.940251  0.130866  0.020311 -0.075472 -0.413066  0.000233  \n",
       "3  1.448961  0.039573  0.015030  0.049342  0.815088  0.000183  \n",
       "4  2.505366  0.000000  0.017883 -0.032520  0.016746  0.000232  \n",
       "\n",
       "[5 rows x 48 columns]"
      ]
     },
     "execution_count": 11,
     "metadata": {},
     "output_type": "execute_result"
    }
   ],
   "source": [
    "df_shifted = pd.merge(y, x, on = ['Date','Permno'], how = 'inner')\n",
    "df_shifted.drop(['Permno'], axis = 1, inplace = True)\n",
    "df_shifted.head()"
   ]
  },
  {
   "cell_type": "code",
   "execution_count": 12,
   "metadata": {},
   "outputs": [],
   "source": [
    "def plot_feature_importances(df):\n",
    "    \n",
    "    df = df.sort_values('importance', ascending = False).reset_index()  \n",
    "    df['importance_normalized'] = df['importance'] / df['importance'].sum()  \n",
    "    plt.figure(figsize = (10, 6))\n",
    "    ax = plt.subplot() \n",
    "    ax.barh(list(reversed(list(df.index[:20]))), \n",
    "            df['importance_normalized'].head(20), \n",
    "            align = 'center',color='tab:blue')\n",
    "    ax.set_yticks(list(reversed(list(df.index[:20]))))\n",
    "    ax.set_yticklabels(df['feature'].head(20))\n",
    "    plt.xlabel('Normalized Importance'); plt.title('Variable Importance')\n",
    "    plt.show()\n",
    "    \n",
    "    #return df"
   ]
  },
  {
   "cell_type": "code",
   "execution_count": 13,
   "metadata": {},
   "outputs": [],
   "source": [
    "def importance_features(model):\n",
    "    Features = {'Name' :df_shifted.iloc[:,1:].columns.values, 'Value' : model[0].feature_importances_}\n",
    "    Features = pd.DataFrame(Features)\n",
    "    Features.set_index(Features.columns[0], inplace = True)\n",
    "    \n",
    "    for i in range(len(model)-1):\n",
    "        features={'Name' : df_shifted.iloc[:,1:].columns.values, 'Value' : model[i].feature_importances_}\n",
    "        features = pd.DataFrame(features)\n",
    "        features.set_index(features.columns[0], inplace = True)\n",
    "        Features=pd.merge(Features, features, on = 'Name', how = 'inner')\n",
    "    \n",
    "    Features=Features.T\n",
    "    importance_values=np.mean(Features)\n",
    "    Features=pd.DataFrame({'feature': df_shifted.iloc[:,1:].columns.values,'importance': importance_values})\n",
    "    Features.reset_index(inplace=True,drop=True)\n",
    "    \n",
    "    plot_feature_importances(Features)"
   ]
  },
  {
   "cell_type": "markdown",
   "metadata": {},
   "source": [
    "# Sample splitting"
   ]
  },
  {
   "cell_type": "markdown",
   "metadata": {},
   "source": [
    "# Walk-forward approach"
   ]
  },
  {
   "cell_type": "code",
   "execution_count": 15,
   "metadata": {},
   "outputs": [],
   "source": [
    "def score_r_squared(y_hat,y_true):\n",
    "\n",
    "    SS_Residual = sum((y_true-y_hat)**2)\n",
    "    SS_Total = sum((y_true)**2) # vs sum((y_validation-np.mean(y))**2) --> demeanining it\n",
    "    r_squared = 1 - (float(SS_Residual))/SS_Total\n",
    "    return r_squared"
   ]
  },
  {
   "cell_type": "code",
   "execution_count": 16,
   "metadata": {},
   "outputs": [],
   "source": [
    "df_shifted=df_shifted.set_index(['Date'])"
   ]
  },
  {
   "cell_type": "code",
   "execution_count": 17,
   "metadata": {},
   "outputs": [],
   "source": [
    "df_shifted.index=df_shifted.index.to_timestamp()"
   ]
  },
  {
   "cell_type": "markdown",
   "metadata": {},
   "source": [
    "## Expanding window"
   ]
  },
  {
   "cell_type": "code",
   "execution_count": 18,
   "metadata": {},
   "outputs": [],
   "source": [
    "def all_algo(df,algo,model_params):\n",
    "    \n",
    "    features=df.iloc[:,1:]\n",
    "    outcome=df.iloc[:,0]\n",
    "    recal_dates=features.resample('A',level='Date').mean().index[:-1]\n",
    "    recal_dates.freq=None\n",
    "    begin_dates = recal_dates\n",
    "    end_dates = recal_dates[1:].append(pd.to_datetime(['2099-12-31']))\n",
    "    \n",
    "    models = pd.Series(index=recal_dates)\n",
    "    predictions = pd.Series(index=features.index)\n",
    "    sc = StandardScaler()\n",
    "    training_scores=[]\n",
    "\n",
    "    for i,date in (enumerate(recal_dates)):\n",
    "        if i == 52:\n",
    "            break\n",
    "        else:\n",
    "            X_train = features[begin_dates[0]:end_dates[i]]\n",
    "            y_train = outcome[begin_dates[0]:end_dates[i]]\n",
    "            X_test= features[begin_dates[i+1]:end_dates[i+1]]\n",
    "            y_test= outcome[begin_dates[i+1]:end_dates[i+1]]\n",
    "            X_train = sc.fit_transform(X_train)\n",
    "            X_train= pd.DataFrame(X_train,columns=df.iloc[:,1:].columns)\n",
    "            X_test= sc.transform(X_test)\n",
    "            X_test=pd.DataFrame(X_test,index=features[begin_dates[i+1]:end_dates[i+1]].index)\n",
    "            model = algo(**model_params)\n",
    "            model.fit(X_train,y_train)\n",
    "            training_scores.append(model.score(X_train,y_train))\n",
    "            p = pd.Series(model.predict(X_test),index=X_test.index)\n",
    "            predictions.loc[p.index[0]:p.index[-1]] = p\n",
    "            models.loc[date] = model\n",
    "\n",
    "        print(\"Training set using the first {} records, until {}\"\\\n",
    "              .format(len(y_train),y_train.index.get_level_values('Date').max()))\n",
    "\n",
    "    results=pd.DataFrame(predictions)\n",
    "    results.rename(columns={0: 'y_pred'},inplace=True)\n",
    "    results['y_true']=outcome\n",
    "    results.dropna(inplace=True)\n",
    "\n",
    "    return score_r_squared(results['y_pred'],results['y_true']), models"
   ]
  },
  {
   "cell_type": "code",
   "execution_count": 19,
   "metadata": {},
   "outputs": [
    {
     "name": "stdout",
     "output_type": "stream",
     "text": [
      "Training set using the first 3374 records, until 1964-12-01 00:00:00\n",
      "Training set using the first 7487 records, until 1965-12-01 00:00:00\n",
      "Training set using the first 12219 records, until 1966-12-01 00:00:00\n",
      "Training set using the first 19129 records, until 1967-12-01 00:00:00\n",
      "Training set using the first 29164 records, until 1968-12-01 00:00:00\n",
      "Training set using the first 40742 records, until 1969-12-01 00:00:00\n",
      "Training set using the first 53159 records, until 1970-12-01 00:00:00\n",
      "Training set using the first 66491 records, until 1971-12-01 00:00:00\n",
      "Training set using the first 80857 records, until 1972-12-01 00:00:00\n",
      "Training set using the first 96385 records, until 1973-12-01 00:00:00\n",
      "Training set using the first 112874 records, until 1974-12-01 00:00:00\n",
      "Training set using the first 129855 records, until 1975-12-01 00:00:00\n",
      "Training set using the first 145422 records, until 1976-12-01 00:00:00\n",
      "Training set using the first 160708 records, until 1977-12-01 00:00:00\n",
      "Training set using the first 176763 records, until 1978-12-01 00:00:00\n",
      "Training set using the first 192381 records, until 1979-12-01 00:00:00\n",
      "Training set using the first 208159 records, until 1980-12-01 00:00:00\n",
      "Training set using the first 224158 records, until 1981-12-01 00:00:00\n",
      "Training set using the first 240377 records, until 1982-12-01 00:00:00\n",
      "Training set using the first 265147 records, until 1983-12-01 00:00:00\n",
      "Training set using the first 289498 records, until 1984-12-01 00:00:00\n",
      "Training set using the first 313203 records, until 1985-12-01 00:00:00\n",
      "Training set using the first 337715 records, until 1986-12-01 00:00:00\n",
      "Training set using the first 361958 records, until 1987-12-01 00:00:00\n",
      "Training set using the first 386268 records, until 1988-12-01 00:00:00\n",
      "Training set using the first 411398 records, until 1989-12-01 00:00:00\n",
      "Training set using the first 436192 records, until 1990-12-01 00:00:00\n",
      "Training set using the first 462140 records, until 1991-12-01 00:00:00\n",
      "Training set using the first 490005 records, until 1992-12-01 00:00:00\n",
      "Training set using the first 518576 records, until 1993-12-01 00:00:00\n",
      "Training set using the first 547520 records, until 1994-12-01 00:00:00\n",
      "Training set using the first 576488 records, until 1995-12-01 00:00:00\n",
      "Training set using the first 605422 records, until 1996-12-01 00:00:00\n",
      "Training set using the first 635199 records, until 1997-12-01 00:00:00\n",
      "Training set using the first 665197 records, until 1998-12-01 00:00:00\n",
      "Training set using the first 695150 records, until 1999-12-01 00:00:00\n",
      "Training set using the first 723808 records, until 2000-12-01 00:00:00\n",
      "Training set using the first 751863 records, until 2001-12-01 00:00:00\n",
      "Training set using the first 780129 records, until 2002-12-01 00:00:00\n",
      "Training set using the first 808352 records, until 2003-12-01 00:00:00\n",
      "Training set using the first 836757 records, until 2004-12-01 00:00:00\n",
      "Training set using the first 865743 records, until 2005-12-01 00:00:00\n",
      "Training set using the first 893900 records, until 2006-12-01 00:00:00\n",
      "Training set using the first 920121 records, until 2007-12-01 00:00:00\n",
      "Training set using the first 944617 records, until 2008-12-01 00:00:00\n",
      "Training set using the first 968275 records, until 2009-12-01 00:00:00\n",
      "Training set using the first 991558 records, until 2010-12-01 00:00:00\n",
      "Training set using the first 1014179 records, until 2011-12-01 00:00:00\n",
      "Training set using the first 1036229 records, until 2012-12-01 00:00:00\n",
      "Training set using the first 1057583 records, until 2013-12-01 00:00:00\n",
      "Training set using the first 1077937 records, until 2014-12-01 00:00:00\n",
      "Training set using the first 1097518 records, until 2015-12-01 00:00:00\n"
     ]
    }
   ],
   "source": [
    "ols_all, _ =all_algo(df_shifted,LinearRegression,model_params={})"
   ]
  },
  {
   "cell_type": "code",
   "execution_count": 20,
   "metadata": {},
   "outputs": [],
   "source": [
    "ols_dic=Dict = {'Test R-Squared': ols_all} "
   ]
  },
  {
   "cell_type": "code",
   "execution_count": 21,
   "metadata": {},
   "outputs": [
    {
     "data": {
      "text/html": [
       "<div>\n",
       "<style scoped>\n",
       "    .dataframe tbody tr th:only-of-type {\n",
       "        vertical-align: middle;\n",
       "    }\n",
       "\n",
       "    .dataframe tbody tr th {\n",
       "        vertical-align: top;\n",
       "    }\n",
       "\n",
       "    .dataframe thead th {\n",
       "        text-align: right;\n",
       "    }\n",
       "</style>\n",
       "<table border=\"1\" class=\"dataframe\">\n",
       "  <thead>\n",
       "    <tr style=\"text-align: right;\">\n",
       "      <th></th>\n",
       "      <th>Test R-Squared</th>\n",
       "    </tr>\n",
       "  </thead>\n",
       "  <tbody>\n",
       "    <tr>\n",
       "      <th>OLS</th>\n",
       "      <td>-1.110476e+20</td>\n",
       "    </tr>\n",
       "  </tbody>\n",
       "</table>\n",
       "</div>"
      ],
      "text/plain": [
       "     Test R-Squared\n",
       "OLS   -1.110476e+20"
      ]
     },
     "execution_count": 21,
     "metadata": {},
     "output_type": "execute_result"
    }
   ],
   "source": [
    "ols_dic=pd.DataFrame.from_dict([ols_dic])\n",
    "ols_dic.rename(index={0: \"OLS\"},inplace=True)\n",
    "ols_dic"
   ]
  },
  {
   "cell_type": "code",
   "execution_count": 22,
   "metadata": {},
   "outputs": [
    {
     "name": "stdout",
     "output_type": "stream",
     "text": [
      "Training set using the first 3374 records, until 1964-12-01 00:00:00\n",
      "Training set using the first 7487 records, until 1965-12-01 00:00:00\n",
      "Training set using the first 12219 records, until 1966-12-01 00:00:00\n",
      "Training set using the first 19129 records, until 1967-12-01 00:00:00\n",
      "Training set using the first 29164 records, until 1968-12-01 00:00:00\n",
      "Training set using the first 40742 records, until 1969-12-01 00:00:00\n",
      "Training set using the first 53159 records, until 1970-12-01 00:00:00\n",
      "Training set using the first 66491 records, until 1971-12-01 00:00:00\n",
      "Training set using the first 80857 records, until 1972-12-01 00:00:00\n",
      "Training set using the first 96385 records, until 1973-12-01 00:00:00\n",
      "Training set using the first 112874 records, until 1974-12-01 00:00:00\n",
      "Training set using the first 129855 records, until 1975-12-01 00:00:00\n",
      "Training set using the first 145422 records, until 1976-12-01 00:00:00\n",
      "Training set using the first 160708 records, until 1977-12-01 00:00:00\n",
      "Training set using the first 176763 records, until 1978-12-01 00:00:00\n",
      "Training set using the first 192381 records, until 1979-12-01 00:00:00\n",
      "Training set using the first 208159 records, until 1980-12-01 00:00:00\n",
      "Training set using the first 224158 records, until 1981-12-01 00:00:00\n",
      "Training set using the first 240377 records, until 1982-12-01 00:00:00\n",
      "Training set using the first 265147 records, until 1983-12-01 00:00:00\n",
      "Training set using the first 289498 records, until 1984-12-01 00:00:00\n",
      "Training set using the first 313203 records, until 1985-12-01 00:00:00\n",
      "Training set using the first 337715 records, until 1986-12-01 00:00:00\n",
      "Training set using the first 361958 records, until 1987-12-01 00:00:00\n",
      "Training set using the first 386268 records, until 1988-12-01 00:00:00\n",
      "Training set using the first 411398 records, until 1989-12-01 00:00:00\n",
      "Training set using the first 436192 records, until 1990-12-01 00:00:00\n",
      "Training set using the first 462140 records, until 1991-12-01 00:00:00\n",
      "Training set using the first 490005 records, until 1992-12-01 00:00:00\n",
      "Training set using the first 518576 records, until 1993-12-01 00:00:00\n",
      "Training set using the first 547520 records, until 1994-12-01 00:00:00\n",
      "Training set using the first 576488 records, until 1995-12-01 00:00:00\n",
      "Training set using the first 605422 records, until 1996-12-01 00:00:00\n",
      "Training set using the first 635199 records, until 1997-12-01 00:00:00\n",
      "Training set using the first 665197 records, until 1998-12-01 00:00:00\n",
      "Training set using the first 695150 records, until 1999-12-01 00:00:00\n",
      "Training set using the first 723808 records, until 2000-12-01 00:00:00\n",
      "Training set using the first 751863 records, until 2001-12-01 00:00:00\n",
      "Training set using the first 780129 records, until 2002-12-01 00:00:00\n",
      "Training set using the first 808352 records, until 2003-12-01 00:00:00\n",
      "Training set using the first 836757 records, until 2004-12-01 00:00:00\n",
      "Training set using the first 865743 records, until 2005-12-01 00:00:00\n",
      "Training set using the first 893900 records, until 2006-12-01 00:00:00\n",
      "Training set using the first 920121 records, until 2007-12-01 00:00:00\n",
      "Training set using the first 944617 records, until 2008-12-01 00:00:00\n",
      "Training set using the first 968275 records, until 2009-12-01 00:00:00\n",
      "Training set using the first 991558 records, until 2010-12-01 00:00:00\n",
      "Training set using the first 1014179 records, until 2011-12-01 00:00:00\n",
      "Training set using the first 1036229 records, until 2012-12-01 00:00:00\n",
      "Training set using the first 1057583 records, until 2013-12-01 00:00:00\n",
      "Training set using the first 1077937 records, until 2014-12-01 00:00:00\n",
      "Training set using the first 1097518 records, until 2015-12-01 00:00:00\n"
     ]
    }
   ],
   "source": [
    "enet_all,enet_models=all_algo(df_shifted,algo=ElasticNet,model_params={'alpha': 0.005,'l1_ratio' : 0.5})"
   ]
  },
  {
   "cell_type": "code",
   "execution_count": 23,
   "metadata": {},
   "outputs": [],
   "source": [
    "enet_dic=Dict = {'Test R-Squared': enet_all} "
   ]
  },
  {
   "cell_type": "code",
   "execution_count": 24,
   "metadata": {},
   "outputs": [
    {
     "data": {
      "text/html": [
       "<div>\n",
       "<style scoped>\n",
       "    .dataframe tbody tr th:only-of-type {\n",
       "        vertical-align: middle;\n",
       "    }\n",
       "\n",
       "    .dataframe tbody tr th {\n",
       "        vertical-align: top;\n",
       "    }\n",
       "\n",
       "    .dataframe thead th {\n",
       "        text-align: right;\n",
       "    }\n",
       "</style>\n",
       "<table border=\"1\" class=\"dataframe\">\n",
       "  <thead>\n",
       "    <tr style=\"text-align: right;\">\n",
       "      <th></th>\n",
       "      <th>Test R-Squared</th>\n",
       "    </tr>\n",
       "  </thead>\n",
       "  <tbody>\n",
       "    <tr>\n",
       "      <th>Elastic Net</th>\n",
       "      <td>0.003256</td>\n",
       "    </tr>\n",
       "  </tbody>\n",
       "</table>\n",
       "</div>"
      ],
      "text/plain": [
       "             Test R-Squared\n",
       "Elastic Net        0.003256"
      ]
     },
     "execution_count": 24,
     "metadata": {},
     "output_type": "execute_result"
    }
   ],
   "source": [
    "enet_dic=pd.DataFrame.from_dict([enet_dic])\n",
    "enet_dic.rename(index={0: \"Elastic Net\"},inplace=True)\n",
    "enet_dic"
   ]
  },
  {
   "cell_type": "code",
   "execution_count": 65,
   "metadata": {},
   "outputs": [],
   "source": [
    "def importance_features_enet(model):\n",
    "\n",
    "    Features = {'Name' : df_shifted.iloc[:,1:].columns.values, 'Value' : abs(model[0].coef_)}\n",
    "    Features = pd.DataFrame(Features)\n",
    "    Features.set_index(Features.columns[0], inplace = True)\n",
    "\n",
    "    for i in range(len(model)-1):\n",
    "        \n",
    "        features={'Name' : df_shifted.iloc[:,1:].columns.values, 'Value' : abs(model[i].coef_)}\n",
    "        features = pd.DataFrame(features)\n",
    "        features.set_index(features.columns[0], inplace = True)\n",
    "        Features=pd.merge(Features, features, on = 'Name', how = 'inner')\n",
    "\n",
    "    Features=Features.T\n",
    "    importance_values=np.mean(Features)\n",
    "    Features=pd.DataFrame({'feature': df_shifted.iloc[:,1:].columns.values,'importance': importance_values})\n",
    "    Features.reset_index(inplace=True,drop=True)\n",
    "\n",
    "    plot_feature_importances(Features)\n"
   ]
  },
  {
   "cell_type": "code",
   "execution_count": 27,
   "metadata": {},
   "outputs": [
    {
     "data": {
      "image/png": "[encoded data removed]",
      "text/plain": [
       "<Figure size 432x288 with 1 Axes>"
      ]
     },
     "metadata": {},
     "output_type": "display_data"
    }
   ],
   "source": [
    "coefs=[]\n",
    "for x in enet_models[:-1]:\n",
    "    coefs.append(np.sum(x.coef_ != 0))\n",
    "coefs=pd.DataFrame(coefs,index=enet_models[:-1].index)\n",
    "\n",
    "plt.style.use('ggplot')\n",
    "plt.plot(coefs.index,coefs,color='tab:blue')\n",
    "plt.ylim(ymin=0)\n",
    "plt.ylabel('# of Characteristics')\n",
    "plt.title(\"Model Complexity over Time\")\n",
    "plt.show()"
   ]
  },
  {
   "cell_type": "code",
   "execution_count": 28,
   "metadata": {},
   "outputs": [
    {
     "name": "stdout",
     "output_type": "stream",
     "text": [
      "Training set using the first 3374 records, until 1964-12-01 00:00:00\n",
      "Training set using the first 7487 records, until 1965-12-01 00:00:00\n",
      "Training set using the first 12219 records, until 1966-12-01 00:00:00\n",
      "Training set using the first 19129 records, until 1967-12-01 00:00:00\n",
      "Training set using the first 29164 records, until 1968-12-01 00:00:00\n",
      "Training set using the first 40742 records, until 1969-12-01 00:00:00\n",
      "Training set using the first 53159 records, until 1970-12-01 00:00:00\n",
      "Training set using the first 66491 records, until 1971-12-01 00:00:00\n",
      "Training set using the first 80857 records, until 1972-12-01 00:00:00\n",
      "Training set using the first 96385 records, until 1973-12-01 00:00:00\n",
      "Training set using the first 112874 records, until 1974-12-01 00:00:00\n",
      "Training set using the first 129855 records, until 1975-12-01 00:00:00\n",
      "Training set using the first 145422 records, until 1976-12-01 00:00:00\n",
      "Training set using the first 160708 records, until 1977-12-01 00:00:00\n",
      "Training set using the first 176763 records, until 1978-12-01 00:00:00\n",
      "Training set using the first 192381 records, until 1979-12-01 00:00:00\n",
      "Training set using the first 208159 records, until 1980-12-01 00:00:00\n",
      "Training set using the first 224158 records, until 1981-12-01 00:00:00\n",
      "Training set using the first 240377 records, until 1982-12-01 00:00:00\n",
      "Training set using the first 265147 records, until 1983-12-01 00:00:00\n",
      "Training set using the first 289498 records, until 1984-12-01 00:00:00\n",
      "Training set using the first 313203 records, until 1985-12-01 00:00:00\n",
      "Training set using the first 337715 records, until 1986-12-01 00:00:00\n",
      "Training set using the first 361958 records, until 1987-12-01 00:00:00\n",
      "Training set using the first 386268 records, until 1988-12-01 00:00:00\n",
      "Training set using the first 411398 records, until 1989-12-01 00:00:00\n",
      "Training set using the first 436192 records, until 1990-12-01 00:00:00\n",
      "Training set using the first 462140 records, until 1991-12-01 00:00:00\n",
      "Training set using the first 490005 records, until 1992-12-01 00:00:00\n",
      "Training set using the first 518576 records, until 1993-12-01 00:00:00\n",
      "Training set using the first 547520 records, until 1994-12-01 00:00:00\n",
      "Training set using the first 576488 records, until 1995-12-01 00:00:00\n",
      "Training set using the first 605422 records, until 1996-12-01 00:00:00\n",
      "Training set using the first 635199 records, until 1997-12-01 00:00:00\n",
      "Training set using the first 665197 records, until 1998-12-01 00:00:00\n",
      "Training set using the first 695150 records, until 1999-12-01 00:00:00\n",
      "Training set using the first 723808 records, until 2000-12-01 00:00:00\n",
      "Training set using the first 751863 records, until 2001-12-01 00:00:00\n",
      "Training set using the first 780129 records, until 2002-12-01 00:00:00\n",
      "Training set using the first 808352 records, until 2003-12-01 00:00:00\n",
      "Training set using the first 836757 records, until 2004-12-01 00:00:00\n",
      "Training set using the first 865743 records, until 2005-12-01 00:00:00\n",
      "Training set using the first 893900 records, until 2006-12-01 00:00:00\n",
      "Training set using the first 920121 records, until 2007-12-01 00:00:00\n",
      "Training set using the first 944617 records, until 2008-12-01 00:00:00\n",
      "Training set using the first 968275 records, until 2009-12-01 00:00:00\n",
      "Training set using the first 991558 records, until 2010-12-01 00:00:00\n",
      "Training set using the first 1014179 records, until 2011-12-01 00:00:00\n",
      "Training set using the first 1036229 records, until 2012-12-01 00:00:00\n",
      "Training set using the first 1057583 records, until 2013-12-01 00:00:00\n",
      "Training set using the first 1077937 records, until 2014-12-01 00:00:00\n",
      "Training set using the first 1097518 records, until 2015-12-01 00:00:00\n"
     ]
    }
   ],
   "source": [
    "rf_all, rf_models=all_algo(df_shifted,algo=RandomForestRegressor,model_params={'n_estimators':10,'max_depth':2,'max_features':10})"
   ]
  },
  {
   "cell_type": "code",
   "execution_count": 29,
   "metadata": {},
   "outputs": [],
   "source": [
    "rf_dic=Dict = {'Test R-Squared': rf_all} "
   ]
  },
  {
   "cell_type": "code",
   "execution_count": 30,
   "metadata": {},
   "outputs": [
    {
     "data": {
      "text/html": [
       "<div>\n",
       "<style scoped>\n",
       "    .dataframe tbody tr th:only-of-type {\n",
       "        vertical-align: middle;\n",
       "    }\n",
       "\n",
       "    .dataframe tbody tr th {\n",
       "        vertical-align: top;\n",
       "    }\n",
       "\n",
       "    .dataframe thead th {\n",
       "        text-align: right;\n",
       "    }\n",
       "</style>\n",
       "<table border=\"1\" class=\"dataframe\">\n",
       "  <thead>\n",
       "    <tr style=\"text-align: right;\">\n",
       "      <th></th>\n",
       "      <th>Test R-Squared</th>\n",
       "    </tr>\n",
       "  </thead>\n",
       "  <tbody>\n",
       "    <tr>\n",
       "      <th>Random Forest</th>\n",
       "      <td>0.003437</td>\n",
       "    </tr>\n",
       "  </tbody>\n",
       "</table>\n",
       "</div>"
      ],
      "text/plain": [
       "               Test R-Squared\n",
       "Random Forest        0.003437"
      ]
     },
     "execution_count": 30,
     "metadata": {},
     "output_type": "execute_result"
    }
   ],
   "source": [
    "rf_dic=pd.DataFrame.from_dict([rf_dic])\n",
    "rf_dic.rename(index={0: \"Random Forest\"},inplace=True)\n",
    "rf_dic"
   ]
  },
  {
   "cell_type": "code",
   "execution_count": 31,
   "metadata": {},
   "outputs": [
    {
     "name": "stdout",
     "output_type": "stream",
     "text": [
      "Training set using the first 3374 records, until 1964-12-01 00:00:00\n",
      "Training set using the first 7487 records, until 1965-12-01 00:00:00\n",
      "Training set using the first 12219 records, until 1966-12-01 00:00:00\n",
      "Training set using the first 19129 records, until 1967-12-01 00:00:00\n",
      "Training set using the first 29164 records, until 1968-12-01 00:00:00\n",
      "Training set using the first 40742 records, until 1969-12-01 00:00:00\n",
      "Training set using the first 53159 records, until 1970-12-01 00:00:00\n",
      "Training set using the first 66491 records, until 1971-12-01 00:00:00\n",
      "Training set using the first 80857 records, until 1972-12-01 00:00:00\n",
      "Training set using the first 96385 records, until 1973-12-01 00:00:00\n",
      "Training set using the first 112874 records, until 1974-12-01 00:00:00\n",
      "Training set using the first 129855 records, until 1975-12-01 00:00:00\n",
      "Training set using the first 145422 records, until 1976-12-01 00:00:00\n",
      "Training set using the first 160708 records, until 1977-12-01 00:00:00\n",
      "Training set using the first 176763 records, until 1978-12-01 00:00:00\n",
      "Training set using the first 192381 records, until 1979-12-01 00:00:00\n",
      "Training set using the first 208159 records, until 1980-12-01 00:00:00\n",
      "Training set using the first 224158 records, until 1981-12-01 00:00:00\n",
      "Training set using the first 240377 records, until 1982-12-01 00:00:00\n",
      "Training set using the first 265147 records, until 1983-12-01 00:00:00\n",
      "Training set using the first 289498 records, until 1984-12-01 00:00:00\n",
      "Training set using the first 313203 records, until 1985-12-01 00:00:00\n",
      "Training set using the first 337715 records, until 1986-12-01 00:00:00\n",
      "Training set using the first 361958 records, until 1987-12-01 00:00:00\n",
      "Training set using the first 386268 records, until 1988-12-01 00:00:00\n",
      "Training set using the first 411398 records, until 1989-12-01 00:00:00\n",
      "Training set using the first 436192 records, until 1990-12-01 00:00:00\n",
      "Training set using the first 462140 records, until 1991-12-01 00:00:00\n",
      "Training set using the first 490005 records, until 1992-12-01 00:00:00\n",
      "Training set using the first 518576 records, until 1993-12-01 00:00:00\n",
      "Training set using the first 547520 records, until 1994-12-01 00:00:00\n",
      "Training set using the first 576488 records, until 1995-12-01 00:00:00\n",
      "Training set using the first 605422 records, until 1996-12-01 00:00:00\n",
      "Training set using the first 635199 records, until 1997-12-01 00:00:00\n",
      "Training set using the first 665197 records, until 1998-12-01 00:00:00\n",
      "Training set using the first 695150 records, until 1999-12-01 00:00:00\n",
      "Training set using the first 723808 records, until 2000-12-01 00:00:00\n",
      "Training set using the first 751863 records, until 2001-12-01 00:00:00\n",
      "Training set using the first 780129 records, until 2002-12-01 00:00:00\n",
      "Training set using the first 808352 records, until 2003-12-01 00:00:00\n",
      "Training set using the first 836757 records, until 2004-12-01 00:00:00\n",
      "Training set using the first 865743 records, until 2005-12-01 00:00:00\n",
      "Training set using the first 893900 records, until 2006-12-01 00:00:00\n",
      "Training set using the first 920121 records, until 2007-12-01 00:00:00\n",
      "Training set using the first 944617 records, until 2008-12-01 00:00:00\n",
      "Training set using the first 968275 records, until 2009-12-01 00:00:00\n",
      "Training set using the first 991558 records, until 2010-12-01 00:00:00\n",
      "Training set using the first 1014179 records, until 2011-12-01 00:00:00\n",
      "Training set using the first 1036229 records, until 2012-12-01 00:00:00\n",
      "Training set using the first 1057583 records, until 2013-12-01 00:00:00\n",
      "Training set using the first 1077937 records, until 2014-12-01 00:00:00\n",
      "Training set using the first 1097518 records, until 2015-12-01 00:00:00\n"
     ]
    }
   ],
   "source": [
    "gbrt_all, gbrt_models =all_algo(df_shifted,GradientBoostingRegressor,model_params={'n_estimators':10,'max_depth':2,'max_features':10})"
   ]
  },
  {
   "cell_type": "code",
   "execution_count": 32,
   "metadata": {},
   "outputs": [],
   "source": [
    "gbrt_dic=Dict = {'Test R-Squared': gbrt_all} "
   ]
  },
  {
   "cell_type": "code",
   "execution_count": 33,
   "metadata": {},
   "outputs": [
    {
     "data": {
      "text/html": [
       "<div>\n",
       "<style scoped>\n",
       "    .dataframe tbody tr th:only-of-type {\n",
       "        vertical-align: middle;\n",
       "    }\n",
       "\n",
       "    .dataframe tbody tr th {\n",
       "        vertical-align: top;\n",
       "    }\n",
       "\n",
       "    .dataframe thead th {\n",
       "        text-align: right;\n",
       "    }\n",
       "</style>\n",
       "<table border=\"1\" class=\"dataframe\">\n",
       "  <thead>\n",
       "    <tr style=\"text-align: right;\">\n",
       "      <th></th>\n",
       "      <th>Test R-Squared</th>\n",
       "    </tr>\n",
       "  </thead>\n",
       "  <tbody>\n",
       "    <tr>\n",
       "      <th>GBRT</th>\n",
       "      <td>0.002209</td>\n",
       "    </tr>\n",
       "  </tbody>\n",
       "</table>\n",
       "</div>"
      ],
      "text/plain": [
       "      Test R-Squared\n",
       "GBRT        0.002209"
      ]
     },
     "execution_count": 33,
     "metadata": {},
     "output_type": "execute_result"
    }
   ],
   "source": [
    "gbrt_dic=pd.DataFrame.from_dict([gbrt_dic])\n",
    "gbrt_dic.rename(index={0: \"GBRT\"},inplace=True)\n",
    "gbrt_dic"
   ]
  },
  {
   "cell_type": "markdown",
   "metadata": {},
   "source": [
    "### Random Forest hyperparametrization"
   ]
  },
  {
   "cell_type": "code",
   "execution_count": 34,
   "metadata": {},
   "outputs": [],
   "source": [
    "def score_r_squared_val(model,X_sample):\n",
    "    \n",
    "    yhat = model.predict(X_sample)\n",
    "    SS_Residual = sum((y_validation-yhat)**2)\n",
    "    SS_Total = sum((y_validation)**2) # vs sum((y_validation-np.mean(y))**2) --> demeanining it\n",
    "    r_squared = 1 - (float(SS_Residual))/SS_Total\n",
    "    return r_squared"
   ]
  },
  {
   "cell_type": "code",
   "execution_count": 35,
   "metadata": {},
   "outputs": [],
   "source": [
    "def hyperparam_rf():    \n",
    "    \n",
    "    models = pd.Series(index=recal_dates)\n",
    "    predictions = pd.Series(index=features.index)\n",
    "    sc = StandardScaler()\n",
    "\n",
    "    for i,date in tqdm((enumerate(recal_dates))):\n",
    "        if i == 52:\n",
    "            break\n",
    "        else:\n",
    "            X_train = features[begin_dates[0]:end_dates[i]]\n",
    "            y_train = outcome[begin_dates[0]:end_dates[i]]\n",
    "            X_test= features[begin_dates[i+1]:end_dates[i+1]]\n",
    "            y_test= outcome[begin_dates[i+1]:end_dates[i+1]]\n",
    "            X_train = sc.fit_transform(X_train)\n",
    "            X_train= pd.DataFrame(X_train,columns=df_shifted.iloc[:,1:].columns)\n",
    "            X_test= sc.transform(X_test)\n",
    "            X_test=pd.DataFrame(X_test,index=features[begin_dates[i+1]:end_dates[i+1]].index)\n",
    "            if i>2:\n",
    "                X_validation=features[end_dates[i-2]:end_dates[i-1]]\n",
    "                y_validation=outcome[end_dates[i-2]:end_dates[i-1]]\n",
    "                rf = RandomForestRegressor()\n",
    "                grid = {'n_estimators':[50], 'max_depth': [2,4,6], 'max_features': [3,5,10,15], 'random_state': [42]}\n",
    "                validation_scores = []\n",
    "                for g in ParameterGrid(grid):\n",
    "                    rf.set_params(**g)  # ** is \"unpacking\" the dictionary\n",
    "                    rf.fit(X_train, y_train)\n",
    "                    validation_scores.append(score_r_squared_val(rf, X_validation))\n",
    "                    #validation_scores.append(rf.score(X_validation, y_validation))\n",
    "                best_idx = np.argmax(validation_scores)\n",
    "                rf=RandomForestRegressor(**ParameterGrid(grid)[best_idx])\n",
    "\n",
    "            model = rf\n",
    "            model.fit(X_train,y_train)\n",
    "            p = pd.Series(model.predict(X_test),index=X_test.index)\n",
    "            predictions.loc[p.index[0]:p.index[-1]] = p\n",
    "            models.loc[date] = model\n",
    "\n",
    "#         print(\"Training on the first {} records, until {}\"\\\n",
    "#               .format(len(y_train),y_train.index.get_level_values('Date').max()))\n",
    "        \n",
    "    results=pd.DataFrame(predictions)\n",
    "    results.rename(columns={0: 'y_pred'},inplace=True)\n",
    "    results['y_true']=outcome\n",
    "    results.dropna(inplace=True)\n",
    "\n",
    "    return score_r_squared(results['y_pred'],results['y_true'])"
   ]
  },
  {
   "cell_type": "markdown",
   "metadata": {},
   "source": [
    "### OLS-3"
   ]
  },
  {
   "cell_type": "code",
   "execution_count": 36,
   "metadata": {},
   "outputs": [],
   "source": [
    "ols3_df_shifted=df_shifted[['ret','LME','BEME','r12_2']]"
   ]
  },
  {
   "cell_type": "code",
   "execution_count": 37,
   "metadata": {},
   "outputs": [],
   "source": [
    "def all_pannel_ols3():  \n",
    "    \n",
    "    features_ols3=ols3_df_shifted.iloc[:,1:]\n",
    "    outcome_ols3=ols3_df_shifted.iloc[:,0]\n",
    "    recal_dates=features_ols3.resample('A',level='Date').mean().index[:-1]\n",
    "    recal_dates.freq=None\n",
    "\n",
    "    begin_dates = recal_dates\n",
    "    end_dates = recal_dates[1:].append(pd.to_datetime(['2099-12-31']))\n",
    "\n",
    "\n",
    "    models = pd.Series(index=recal_dates)\n",
    "    predictions = pd.Series(index=features_ols3.index)\n",
    "    sc = StandardScaler()\n",
    "\n",
    "    for i,date in (enumerate(recal_dates)):\n",
    "        if i == 52:\n",
    "            break\n",
    "        else:\n",
    "            X_train = features_ols3[begin_dates[0]:end_dates[i]]\n",
    "            y_train = outcome_ols3[begin_dates[0]:end_dates[i]]\n",
    "            X_test= features_ols3[begin_dates[i+1]:end_dates[i+1]]\n",
    "            y_test= outcome_ols3[begin_dates[i+1]:end_dates[i+1]]\n",
    "            X_train = sc.fit_transform(X_train)\n",
    "            X_test= sc.transform(X_test)\n",
    "            X_test=pd.DataFrame(X_test,index=features_ols3[begin_dates[i+1]:end_dates[i+1]].index)\n",
    "            model = LinearRegression()\n",
    "            model.fit(X_train,y_train)\n",
    "            p = pd.Series(model.predict(X_test),index=X_test.index)\n",
    "            predictions.loc[p.index[0]:p.index[-1]] = p\n",
    "            models.loc[date] = model\n",
    "\n",
    "#         print(\"Training on the first {} records, until {}\"\\\n",
    "#               .format(len(y_train),y_train.index.get_level_values('Date').max()))\n",
    "\n",
    "    results=pd.DataFrame(predictions)\n",
    "    results.rename(columns={0: 'y_pred'},inplace=True)\n",
    "    results['y_true']=outcome_ols3\n",
    "    results.dropna(inplace=True)   \n",
    "\n",
    "    return score_r_squared(results['y_pred'],results['y_true']), models"
   ]
  },
  {
   "cell_type": "code",
   "execution_count": 38,
   "metadata": {},
   "outputs": [],
   "source": [
    "ols3_all,ols3_models=all_pannel_ols3()"
   ]
  },
  {
   "cell_type": "code",
   "execution_count": 39,
   "metadata": {},
   "outputs": [],
   "source": [
    "ols3_dic=Dict = {'Test R-Squared': ols3_all} "
   ]
  },
  {
   "cell_type": "code",
   "execution_count": 40,
   "metadata": {},
   "outputs": [
    {
     "data": {
      "text/html": [
       "<div>\n",
       "<style scoped>\n",
       "    .dataframe tbody tr th:only-of-type {\n",
       "        vertical-align: middle;\n",
       "    }\n",
       "\n",
       "    .dataframe tbody tr th {\n",
       "        vertical-align: top;\n",
       "    }\n",
       "\n",
       "    .dataframe thead th {\n",
       "        text-align: right;\n",
       "    }\n",
       "</style>\n",
       "<table border=\"1\" class=\"dataframe\">\n",
       "  <thead>\n",
       "    <tr style=\"text-align: right;\">\n",
       "      <th></th>\n",
       "      <th>Test R-Squared</th>\n",
       "    </tr>\n",
       "  </thead>\n",
       "  <tbody>\n",
       "    <tr>\n",
       "      <th>OLS-3</th>\n",
       "      <td>0.002086</td>\n",
       "    </tr>\n",
       "  </tbody>\n",
       "</table>\n",
       "</div>"
      ],
      "text/plain": [
       "       Test R-Squared\n",
       "OLS-3        0.002086"
      ]
     },
     "execution_count": 40,
     "metadata": {},
     "output_type": "execute_result"
    }
   ],
   "source": [
    "ols3_dic=pd.DataFrame.from_dict([ols3_dic])\n",
    "ols3_dic.rename(index={0: \"OLS-3\"},inplace=True)\n",
    "ols3_dic"
   ]
  },
  {
   "cell_type": "code",
   "execution_count": null,
   "metadata": {},
   "outputs": [],
   "source": [
    "# def extract_coefs(models):\n",
    "#     coefs = pd.DataFrame()\n",
    "#     for i,model in enumerate(models[:-1]):\n",
    "#         model_coefs = pd.Series(model.coef_,index=['LME','BEME','r12_2']) #extract coefficients for model\n",
    "#         model_coefs.name = models.index[i] # name it with the recalc date\n",
    "#         coefs = pd.concat([coefs,model_coefs],axis=1)\n",
    "#     return coefs.T "
   ]
  },
  {
   "cell_type": "code",
   "execution_count": null,
   "metadata": {},
   "outputs": [],
   "source": [
    "# extract_coefs(ols3_models).plot(title='Coefficients for Expanding Window Model')\n",
    "# plt.show()"
   ]
  },
  {
   "cell_type": "markdown",
   "metadata": {},
   "source": [
    "### Top and Bottom stocks"
   ]
  },
  {
   "cell_type": "code",
   "execution_count": 41,
   "metadata": {},
   "outputs": [],
   "source": [
    "df_top=df_shifted.loc[df_shifted.index.unique()[0]][:int(0.10*len(df_shifted.loc[df_shifted.index.unique()[0]]))]\n",
    "df_bottom=df_shifted.loc[df_shifted.index.unique()[0]][int(0.90*len(df_shifted.loc[df_shifted.index.unique()[0]])):]\n",
    "\n",
    "for ele in df_shifted.index.unique()[1:]:\n",
    "\n",
    "    df_temp=df_shifted.loc[ele]\n",
    "    #ols3_df_shifted.loc[ele]=ols3_df_shifted.loc[ele].sort_values(by='LME',ascending=False)\n",
    "    df_temp=df_temp.sort_values(by='LME',ascending=False)\n",
    "    df_top=pd.concat([df_top,df_temp[:int(0.10*len(df_temp))]])\n",
    "    df_bottom=pd.concat([df_bottom,df_temp[int(0.90*len(df_temp)):]])"
   ]
  },
  {
   "cell_type": "code",
   "execution_count": 42,
   "metadata": {},
   "outputs": [],
   "source": [
    "def top_bottom(df,algo):    \n",
    "    \n",
    "    features=df.iloc[:,1:]\n",
    "    outcome=df.iloc[:,0]\n",
    "    recal_dates=features.resample('A',level='Date').mean().index[:-1]\n",
    "    recal_dates.freq=None\n",
    "    begin_dates = recal_dates\n",
    "    end_dates = recal_dates[1:].append(pd.to_datetime(['2099-12-31']))\n",
    "\n",
    "    models = pd.Series(index=recal_dates)\n",
    "    predictions = pd.Series(index=features.index)\n",
    "    sc = StandardScaler()\n",
    "\n",
    "    for i,date in (enumerate(recal_dates)):\n",
    "        if i == 52:\n",
    "            break\n",
    "        else:\n",
    "            X_train = features[begin_dates[0]:end_dates[i]]\n",
    "            y_train = outcome[begin_dates[0]:end_dates[i]]\n",
    "            X_test= features[begin_dates[i+1]:end_dates[i+1]]\n",
    "            y_test= outcome[begin_dates[i+1]:end_dates[i+1]]\n",
    "            X_train = sc.fit_transform(X_train)\n",
    "            X_test= sc.transform(X_test)\n",
    "            X_test=pd.DataFrame(X_test,index=features[begin_dates[i+1]:end_dates[i+1]].index)\n",
    "            model = algo \n",
    "            model.fit(X_train,y_train)\n",
    "            p = pd.Series(model.predict(X_test),index=X_test.index)\n",
    "            predictions.loc[p.index[0]:p.index[-1]] = p\n",
    "            models.loc[date] = model\n",
    "\n",
    "#         print(\"Training on the first {} records, through {}\"\\\n",
    "#               .format(len(y_train),y_train.index.get_level_values('Date').max()))\n",
    "        \n",
    "    results=pd.DataFrame(predictions)\n",
    "    results.rename(columns={0: 'y_pred'},inplace=True)\n",
    "    results['y_true']=outcome\n",
    "    results.dropna(inplace=True)\n",
    "\n",
    "    return score_r_squared(results['y_pred'],results['y_true'])"
   ]
  },
  {
   "cell_type": "code",
   "execution_count": 43,
   "metadata": {},
   "outputs": [],
   "source": [
    "ols_top=top_bottom(df_top,LinearRegression())\n",
    "ols_bottom=top_bottom(df_bottom,LinearRegression())"
   ]
  },
  {
   "cell_type": "code",
   "execution_count": 44,
   "metadata": {},
   "outputs": [],
   "source": [
    "enet_top=top_bottom(df_top,ElasticNet(alpha=0.01,l1_ratio=0.5))\n",
    "enet_bottom=top_bottom(df_bottom,ElasticNet(alpha=0.01,l1_ratio=0.5))"
   ]
  },
  {
   "cell_type": "code",
   "execution_count": 45,
   "metadata": {},
   "outputs": [],
   "source": [
    "rf_top=top_bottom(df_top,RandomForestRegressor(n_estimators=100,max_depth=2,max_features=10))\n",
    "rf_bottom=top_bottom(df_bottom,RandomForestRegressor(n_estimators=100,max_depth=2,max_features=10))"
   ]
  },
  {
   "cell_type": "code",
   "execution_count": 46,
   "metadata": {},
   "outputs": [],
   "source": [
    "gbrt_top=top_bottom(df_top,GradientBoostingRegressor(n_estimators=20,max_depth=2,max_features=10))\n",
    "gbrt_bottom=top_bottom(df_bottom,GradientBoostingRegressor(n_estimators=20,max_depth=2,max_features=10))"
   ]
  },
  {
   "cell_type": "markdown",
   "metadata": {},
   "source": [
    "### OLS 3"
   ]
  },
  {
   "cell_type": "code",
   "execution_count": 47,
   "metadata": {},
   "outputs": [],
   "source": [
    "df_top=ols3_df_shifted.loc[ols3_df_shifted.index.unique()[0]][:int(0.10*len(ols3_df_shifted.loc[ols3_df_shifted.index.unique()[0]]))]\n",
    "df_bottom=ols3_df_shifted.loc[ols3_df_shifted.index.unique()[0]][int(0.90*len(ols3_df_shifted.loc[ols3_df_shifted.index.unique()[0]])):]\n",
    "\n",
    "for ele in ols3_df_shifted.index.unique()[1:]:\n",
    "\n",
    "    df_temp=ols3_df_shifted.loc[ele]\n",
    "    #ols3_df_shifted.loc[ele]=ols3_df_shifted.loc[ele].sort_values(by='LME',ascending=False)\n",
    "    df_temp=df_temp.sort_values(by='LME',ascending=False)\n",
    "    df_top=pd.concat([df_top,df_temp[:int(0.10*len(df_temp))]])\n",
    "    df_bottom=pd.concat([df_bottom,df_temp[int(0.90*len(df_temp)):]])"
   ]
  },
  {
   "cell_type": "code",
   "execution_count": 48,
   "metadata": {},
   "outputs": [],
   "source": [
    "def top_bottom_ols3(df):    \n",
    "    \n",
    "    features_ols3=df.iloc[:,1:]\n",
    "    outcome_ols3=df.iloc[:,0]\n",
    "    recal_dates=features_ols3.resample('A',level='Date').mean().index[:-1]\n",
    "    recal_dates.freq=None\n",
    "    begin_dates = recal_dates\n",
    "    end_dates = recal_dates[1:].append(pd.to_datetime(['2099-12-31']))\n",
    "\n",
    "    models = pd.Series(index=recal_dates)\n",
    "    predictions = pd.Series(index=features_ols3.index)\n",
    "    sc = StandardScaler()\n",
    "\n",
    "    for i,date in (enumerate(recal_dates)):\n",
    "        if i == 52:\n",
    "            break\n",
    "        else:\n",
    "            X_train = features_ols3[begin_dates[0]:end_dates[i]]\n",
    "            y_train = outcome_ols3[begin_dates[0]:end_dates[i]]\n",
    "            X_test= features_ols3[begin_dates[i+1]:end_dates[i+1]]\n",
    "            y_test= outcome_ols3[begin_dates[i+1]:end_dates[i+1]]\n",
    "            X_train = sc.fit_transform(X_train)\n",
    "            X_test= sc.transform(X_test)\n",
    "            X_test=pd.DataFrame(X_test,index=features_ols3[begin_dates[i+1]:end_dates[i+1]].index)\n",
    "            model = LinearRegression()\n",
    "            model.fit(X_train,y_train)\n",
    "            p = pd.Series(model.predict(X_test),index=X_test.index)\n",
    "            predictions.loc[p.index[0]:p.index[-1]] = p\n",
    "            models.loc[date] = model\n",
    "\n",
    "#         print(\"Training on the first {} records, until {}\"\\\n",
    "#               .format(len(y_train),y_train.index.get_level_values('Date').max()))\n",
    "        \n",
    "    results=pd.DataFrame(predictions)\n",
    "    results.rename(columns={0: 'y_pred'},inplace=True)\n",
    "    results['y_true']=outcome_ols3\n",
    "    results.dropna(inplace=True)\n",
    "    \n",
    "\n",
    "    return score_r_squared(results['y_pred'],results['y_true']) "
   ]
  },
  {
   "cell_type": "code",
   "execution_count": 49,
   "metadata": {},
   "outputs": [],
   "source": [
    "ols3_top=top_bottom_ols3(df_top)\n",
    "ols3_bottom=top_bottom_ols3(df_bottom)"
   ]
  },
  {
   "cell_type": "code",
   "execution_count": 50,
   "metadata": {},
   "outputs": [],
   "source": [
    "all_scores=[]\n",
    "for ele in (ols3_all,enet_all,rf_all,gbrt_all):\n",
    "    all_scores.append(ele)"
   ]
  },
  {
   "cell_type": "code",
   "execution_count": 51,
   "metadata": {},
   "outputs": [],
   "source": [
    "all_index = ['OLS-3', 'Elastic Net', 'Random Forest', 'GBRT']"
   ]
  },
  {
   "cell_type": "code",
   "execution_count": 52,
   "metadata": {},
   "outputs": [],
   "source": [
    "all_scores=pd.DataFrame(all_scores,index=all_index,columns=['All'])"
   ]
  },
  {
   "cell_type": "code",
   "execution_count": 53,
   "metadata": {},
   "outputs": [],
   "source": [
    "top_scores=[]\n",
    "for ele in (ols3_top,enet_top,rf_top,gbrt_top):\n",
    "    top_scores.append(ele)"
   ]
  },
  {
   "cell_type": "code",
   "execution_count": 54,
   "metadata": {},
   "outputs": [],
   "source": [
    "bottom_scores=[]\n",
    "for ele in (ols3_bottom,enet_bottom,rf_bottom,gbrt_bottom):\n",
    "    bottom_scores.append(ele)"
   ]
  },
  {
   "cell_type": "code",
   "execution_count": 55,
   "metadata": {},
   "outputs": [],
   "source": [
    "all_scores['Top']=top_scores\n",
    "all_scores['Bottom']=bottom_scores"
   ]
  },
  {
   "cell_type": "code",
   "execution_count": 56,
   "metadata": {},
   "outputs": [],
   "source": [
    "all_scores_bar = all_scores.reset_index().melt(id_vars=[\"index\"])"
   ]
  },
  {
   "cell_type": "code",
   "execution_count": 57,
   "metadata": {},
   "outputs": [],
   "source": [
    "all_scores_bar['value']=all_scores_bar['value']*100"
   ]
  },
  {
   "cell_type": "code",
   "execution_count": 58,
   "metadata": {},
   "outputs": [
    {
     "data": {
      "image/png": "[encoded data removed]",
      "text/plain": [
       "<Figure size 864x432 with 1 Axes>"
      ]
     },
     "metadata": {},
     "output_type": "display_data"
    }
   ],
   "source": [
    "sns.set_style(\"whitegrid\")\n",
    "#plt.style.use('ggplot')\n",
    "plt.figure(figsize = (12, 6))\n",
    "ax=sns.barplot(x=\"index\", y=\"value\", hue=\"variable\", palette='YlGnBu', data=all_scores_bar, linewidth=2.0,\n",
    " errcolor=\".2\", edgecolor=\".2\")\n",
    "ax.set(xlabel=\"\", ylabel='R-squared OOS')\n",
    "plt.title('Monthly Out-of-Sample Stock-level Prediction')\n",
    "\n",
    "plt.show()"
   ]
  },
  {
   "cell_type": "code",
   "execution_count": 66,
   "metadata": {},
   "outputs": [
    {
     "data": {
      "image/png": "[encoded data removed]",
      "text/plain": [
       "<Figure size 720x432 with 1 Axes>"
      ]
     },
     "metadata": {},
     "output_type": "display_data"
    }
   ],
   "source": [
    "importance_features_enet(enet_models)"
   ]
  },
  {
   "cell_type": "code",
   "execution_count": 60,
   "metadata": {},
   "outputs": [
    {
     "data": {
      "image/png": "[encoded data removed]",
      "text/plain": [
       "<Figure size 720x432 with 1 Axes>"
      ]
     },
     "metadata": {},
     "output_type": "display_data"
    }
   ],
   "source": [
    "importance_features(rf_models)"
   ]
  },
  {
   "cell_type": "code",
   "execution_count": 61,
   "metadata": {},
   "outputs": [
    {
     "data": {
      "image/png": "[encoded data removed]",
      "text/plain": [
       "<Figure size 720x432 with 1 Axes>"
      ]
     },
     "metadata": {},
     "output_type": "display_data"
    }
   ],
   "source": [
    "importance_features(gbrt_models)"
   ]
  },
  {
   "cell_type": "code",
   "execution_count": null,
   "metadata": {},
   "outputs": [],
   "source": []
  }
 ],
 "metadata": {
  "kernelspec": {
   "display_name": "Python 3",
   "language": "python",
   "name": "python3"
  },
  "language_info": {
   "codemirror_mode": {
    "name": "ipython",
    "version": 3
   },
   "file_extension": ".py",
   "mimetype": "text/x-python",
   "name": "python",
   "nbconvert_exporter": "python",
   "pygments_lexer": "ipython3",
   "version": "3.6.5"
  }
 },
 "nbformat": 4,
 "nbformat_minor": 4
}
